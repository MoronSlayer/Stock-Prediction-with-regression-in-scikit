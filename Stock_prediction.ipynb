{
  "nbformat": 4,
  "nbformat_minor": 0,
  "metadata": {
    "colab": {
      "name": "Stock_prediction.ipynb",
      "version": "0.3.2",
      "provenance": [],
      "collapsed_sections": [],
      "include_colab_link": true
    },
    "kernelspec": {
      "name": "python3",
      "display_name": "Python 3"
    }
  },
  "cells": [
    {
      "cell_type": "markdown",
      "metadata": {
        "id": "view-in-github",
        "colab_type": "text"
      },
      "source": [
        "<a href=\"https://colab.research.google.com/github/MoronSlayer/Stock-Prediction-with-regression-in-scikit/blob/master/Stock_prediction.ipynb\" target=\"_parent\"><img src=\"https://colab.research.google.com/assets/colab-badge.svg\" alt=\"Open In Colab\"/></a>"
      ]
    },
    {
      "cell_type": "code",
      "metadata": {
        "id": "rWMLJ3Rmwug5",
        "colab_type": "code",
        "colab": {}
      },
      "source": [
        "import numpy as np ## for calculations on data\n",
        "import csv\n",
        "import sklearn\n",
        "import matplotlib.pyplot as plt\n",
        "from sklearn.svm import SVR\n",
        "import pandas as pd\n",
        "from sklearn.linear_model import LinearRegression\n",
        "from sklearn.linear_model import Ridge\n",
        "from sklearn.linear_model import Lasso"
      ],
      "execution_count": 0,
      "outputs": []
    },
    {
      "cell_type": "code",
      "metadata": {
        "id": "gmtBJAPUxUyR",
        "colab_type": "code",
        "outputId": "76485bef-0be6-4de8-e1a0-5c0e97f01ef6",
        "colab": {
          "base_uri": "https://localhost:8080/",
          "height": 202
        }
      },
      "source": [
        "df = pd.read_csv('onemonthdata.csv') # creating a dataframe to read a CSV file\n",
        "df.head(5)"
      ],
      "execution_count": 0,
      "outputs": [
        {
          "output_type": "execute_result",
          "data": {
            "text/html": [
              "<div>\n",
              "<style scoped>\n",
              "    .dataframe tbody tr th:only-of-type {\n",
              "        vertical-align: middle;\n",
              "    }\n",
              "\n",
              "    .dataframe tbody tr th {\n",
              "        vertical-align: top;\n",
              "    }\n",
              "\n",
              "    .dataframe thead th {\n",
              "        text-align: right;\n",
              "    }\n",
              "</style>\n",
              "<table border=\"1\" class=\"dataframe\">\n",
              "  <thead>\n",
              "    <tr style=\"text-align: right;\">\n",
              "      <th></th>\n",
              "      <th>Date</th>\n",
              "      <th>Open</th>\n",
              "      <th>High</th>\n",
              "      <th>Low</th>\n",
              "      <th>Close</th>\n",
              "      <th>Adj Close</th>\n",
              "      <th>Volume</th>\n",
              "    </tr>\n",
              "  </thead>\n",
              "  <tbody>\n",
              "    <tr>\n",
              "      <th>0</th>\n",
              "      <td>2019-06-05</td>\n",
              "      <td>2818.090088</td>\n",
              "      <td>2827.280029</td>\n",
              "      <td>2800.919922</td>\n",
              "      <td>2826.149902</td>\n",
              "      <td>2826.149902</td>\n",
              "      <td>3548830000</td>\n",
              "    </tr>\n",
              "    <tr>\n",
              "      <th>1</th>\n",
              "      <td>2019-06-06</td>\n",
              "      <td>2828.510010</td>\n",
              "      <td>2852.100098</td>\n",
              "      <td>2822.449951</td>\n",
              "      <td>2843.489990</td>\n",
              "      <td>2843.489990</td>\n",
              "      <td>3396410000</td>\n",
              "    </tr>\n",
              "    <tr>\n",
              "      <th>2</th>\n",
              "      <td>2019-06-07</td>\n",
              "      <td>2852.870117</td>\n",
              "      <td>2884.969971</td>\n",
              "      <td>2852.870117</td>\n",
              "      <td>2873.340088</td>\n",
              "      <td>2873.340088</td>\n",
              "      <td>3220250000</td>\n",
              "    </tr>\n",
              "    <tr>\n",
              "      <th>3</th>\n",
              "      <td>2019-06-10</td>\n",
              "      <td>2885.830078</td>\n",
              "      <td>2904.770020</td>\n",
              "      <td>2885.510010</td>\n",
              "      <td>2886.729980</td>\n",
              "      <td>2886.729980</td>\n",
              "      <td>3209210000</td>\n",
              "    </tr>\n",
              "    <tr>\n",
              "      <th>4</th>\n",
              "      <td>2019-06-11</td>\n",
              "      <td>2903.270020</td>\n",
              "      <td>2910.610107</td>\n",
              "      <td>2878.530029</td>\n",
              "      <td>2885.719971</td>\n",
              "      <td>2885.719971</td>\n",
              "      <td>3548420000</td>\n",
              "    </tr>\n",
              "  </tbody>\n",
              "</table>\n",
              "</div>"
            ],
            "text/plain": [
              "         Date         Open         High  ...        Close    Adj Close      Volume\n",
              "0  2019-06-05  2818.090088  2827.280029  ...  2826.149902  2826.149902  3548830000\n",
              "1  2019-06-06  2828.510010  2852.100098  ...  2843.489990  2843.489990  3396410000\n",
              "2  2019-06-07  2852.870117  2884.969971  ...  2873.340088  2873.340088  3220250000\n",
              "3  2019-06-10  2885.830078  2904.770020  ...  2886.729980  2886.729980  3209210000\n",
              "4  2019-06-11  2903.270020  2910.610107  ...  2885.719971  2885.719971  3548420000\n",
              "\n",
              "[5 rows x 7 columns]"
            ]
          },
          "metadata": {
            "tags": []
          },
          "execution_count": 2
        }
      ]
    },
    {
      "cell_type": "code",
      "metadata": {
        "id": "abIPUxYyxc-4",
        "colab_type": "code",
        "colab": {}
      },
      "source": [
        "#Create the lists / X and y data set\n",
        "dates = []\n",
        "prices = []"
      ],
      "execution_count": 0,
      "outputs": []
    },
    {
      "cell_type": "code",
      "metadata": {
        "id": "wRsN1rKJxfgp",
        "colab_type": "code",
        "outputId": "afaab03e-d840-42cf-ff33-2a4ed30d570c",
        "colab": {
          "base_uri": "https://localhost:8080/",
          "height": 35
        }
      },
      "source": [
        "df.shape ## to show the number of rows and column"
      ],
      "execution_count": 0,
      "outputs": [
        {
          "output_type": "execute_result",
          "data": {
            "text/plain": [
              "(65, 7)"
            ]
          },
          "metadata": {
            "tags": []
          },
          "execution_count": 4
        }
      ]
    },
    {
      "cell_type": "code",
      "metadata": {
        "id": "zQ0vwFHVxh4L",
        "colab_type": "code",
        "outputId": "33720e60-3a78-4a03-caf2-c94a934b832a",
        "colab": {
          "base_uri": "https://localhost:8080/",
          "height": 79
        }
      },
      "source": [
        "df.tail(1) ## data we will be testing on"
      ],
      "execution_count": 0,
      "outputs": [
        {
          "output_type": "execute_result",
          "data": {
            "text/html": [
              "<div>\n",
              "<style scoped>\n",
              "    .dataframe tbody tr th:only-of-type {\n",
              "        vertical-align: middle;\n",
              "    }\n",
              "\n",
              "    .dataframe tbody tr th {\n",
              "        vertical-align: top;\n",
              "    }\n",
              "\n",
              "    .dataframe thead th {\n",
              "        text-align: right;\n",
              "    }\n",
              "</style>\n",
              "<table border=\"1\" class=\"dataframe\">\n",
              "  <thead>\n",
              "    <tr style=\"text-align: right;\">\n",
              "      <th></th>\n",
              "      <th>Date</th>\n",
              "      <th>Open</th>\n",
              "      <th>High</th>\n",
              "      <th>Low</th>\n",
              "      <th>Close</th>\n",
              "      <th>Adj Close</th>\n",
              "      <th>Volume</th>\n",
              "    </tr>\n",
              "  </thead>\n",
              "  <tbody>\n",
              "    <tr>\n",
              "      <th>64</th>\n",
              "      <td>2019-09-05</td>\n",
              "      <td>2960.600098</td>\n",
              "      <td>2985.860107</td>\n",
              "      <td>2960.600098</td>\n",
              "      <td>2976.0</td>\n",
              "      <td>2976.0</td>\n",
              "      <td>1985626103</td>\n",
              "    </tr>\n",
              "  </tbody>\n",
              "</table>\n",
              "</div>"
            ],
            "text/plain": [
              "          Date         Open         High  ...   Close  Adj Close      Volume\n",
              "64  2019-09-05  2960.600098  2985.860107  ...  2976.0     2976.0  1985626103\n",
              "\n",
              "[1 rows x 7 columns]"
            ]
          },
          "metadata": {
            "tags": []
          },
          "execution_count": 5
        }
      ]
    },
    {
      "cell_type": "code",
      "metadata": {
        "id": "isOusOocxkAd",
        "colab_type": "code",
        "outputId": "2ff2cef2-9c75-43bc-c755-2ba996757ec6",
        "colab": {
          "base_uri": "https://localhost:8080/",
          "height": 35
        }
      },
      "source": [
        "#Get all of the data except for the last row -> basically creating another dataset to work with and the predict for the last date\n",
        "df = df.head(len(df)-1)\n",
        "print(df.shape)"
      ],
      "execution_count": 0,
      "outputs": [
        {
          "output_type": "stream",
          "text": [
            "(64, 7)\n"
          ],
          "name": "stdout"
        }
      ]
    },
    {
      "cell_type": "code",
      "metadata": {
        "id": "Vq-TDn2_xlxI",
        "colab_type": "code",
        "colab": {}
      },
      "source": [
        "df_dates = df.loc[:,'Date'] ## the date column of the dataset is stored into a variabe df_dates\n",
        "df_open = df.loc[:,'Open'] ## the open column of the dataset is stored into a variabe df_open"
      ],
      "execution_count": 0,
      "outputs": []
    },
    {
      "cell_type": "markdown",
      "metadata": {
        "id": "eT1mlOST0g7l",
        "colab_type": "text"
      },
      "source": [
        "You can compare the values using any other column from the data , here we used date and open "
      ]
    },
    {
      "cell_type": "code",
      "metadata": {
        "id": "_SsLEFBKxoUF",
        "colab_type": "code",
        "colab": {}
      },
      "source": [
        "#Create the independent data set 'X' as dates\n",
        "\n",
        "for date in df_dates:\n",
        "    \n",
        "    dates.append( [int(date.split('-')[2])] ) ## the .split helps us take only the date and remvoes the month and year\n",
        "\n",
        "    \n",
        "# Create the dependent data set 'y' as prices\n",
        "\n",
        "for open_price in df_open: \n",
        "    prices.append(float(open_price))"
      ],
      "execution_count": 0,
      "outputs": []
    },
    {
      "cell_type": "code",
      "metadata": {
        "id": "XZDzyjH-xrML",
        "colab_type": "code",
        "outputId": "4d6d0488-86df-4b52-f9bb-aa4717bceb5d",
        "colab": {
          "base_uri": "https://localhost:8080/",
          "height": 55
        }
      },
      "source": [
        "print (dates) ## the days recorded in the data set "
      ],
      "execution_count": 0,
      "outputs": [
        {
          "output_type": "stream",
          "text": [
            "[[5], [6], [7], [10], [11], [12], [13], [14], [17], [18], [19], [20], [21], [24], [25], [26], [27], [28], [1], [2], [3], [5], [8], [9], [10], [11], [12], [15], [16], [17], [18], [19], [22], [23], [24], [25], [26], [29], [30], [31], [1], [2], [5], [6], [7], [8], [9], [12], [13], [14], [15], [16], [19], [20], [21], [22], [23], [26], [27], [28], [29], [30], [3], [4]]\n"
          ],
          "name": "stdout"
        }
      ]
    },
    {
      "cell_type": "code",
      "metadata": {
        "id": "S0nwNyUBxs7_",
        "colab_type": "code",
        "colab": {}
      },
      "source": [
        "#Function to make predictions \n",
        "def predict_prices(dates, prices, x): \n",
        "    \n",
        "    #Create the 3 Support Vector Regression models\n",
        "    svr_lin = SVR(kernel='linear', C= 1e3)\n",
        "    svr_poly= SVR(kernel='poly', C=1e3, degree=2)\n",
        "    svr_rbf = SVR(kernel='rbf', C=1e3, gamma=0.1)\n",
        "    \n",
        "    \n",
        "    #Train the SVR models \n",
        "    svr_lin.fit(dates,prices)\n",
        "    svr_poly.fit(dates,prices)\n",
        "    svr_rbf.fit(dates,prices)\n",
        "    \n",
        "    #Create the Linear Regression model and train it using fitting \n",
        "    lin_reg = LinearRegression()\n",
        "    lin_reg.fit(dates,prices)\n",
        "    \n",
        "    ## Creating a ridge regression model \n",
        "    rr = Ridge(alpha=0.01)\n",
        "    rr.fit(dates,prices)\n",
        "    \n",
        "    ## Creating a lasso model \n",
        "    lasso = Lasso()\n",
        "    lasso.fit(dates,prices)\n",
        "    \n",
        "    #Plot the models on a graph to see which has the best fit\n",
        "     \n",
        "    plt.scatter(dates, prices, color='black', label='Data')\n",
        "    plt.plot(dates, svr_rbf.predict(dates), color='red', label='SVR RBF')\n",
        "    plt.plot(dates, svr_poly.predict(dates), color='blue', label='SVR Poly')\n",
        "    plt.plot(dates, svr_lin.predict(dates), color='green', label='SVR Linear')\n",
        "    plt.plot(dates, lin_reg.predict(dates), color='orange', label='Linear Reg')\n",
        "    plt.plot(dates, rr.predict(dates), color='magenta', label='Ridge Reg')\n",
        "    plt.plot(dates, lasso.predict(dates), color='cyan', label='Lasso Reg')\n",
        "    \n",
        "    plt.xlabel('Days')\n",
        "    plt.ylabel('Price')\n",
        "    plt.title('Regression')\n",
        "    plt.legend().draggable\n",
        "    plt.show()\n",
        "    print ('the svr_rbf predicted value is', svr_rbf.predict(x)[0])\n",
        "    print ('the svr_lin predicted value is ',svr_lin.predict(x)[0])\n",
        "    print ('the svr_poly predicted value is ',svr_poly.predict(x)[0])\n",
        "    print ('the lin_reg predicted value is ',lin_reg.predict(x)[0])\n",
        "    print ('the ridge_reg predicted value is ',rr.predict(x)[0])\n",
        "    print ('the lasso_reg predicted value is ',lasso.predict(x)[0])\n",
        "\n",
        "\n",
        "    \n",
        "        \n"
      ],
      "execution_count": 0,
      "outputs": []
    },
    {
      "cell_type": "markdown",
      "metadata": {
        "id": "8EtYVTyC04Zl",
        "colab_type": "text"
      },
      "source": [
        "here we used three kinds of regression , trained them in the df we edited to remove out the last row and then we are going to predict the 'open' using these different types of regression\n"
      ]
    },
    {
      "cell_type": "code",
      "metadata": {
        "id": "4J1egpD-xwAN",
        "colab_type": "code",
        "outputId": "f5ac5714-7640-42d6-ca66-fa7287d6d3d6",
        "colab": {
          "base_uri": "https://localhost:8080/",
          "height": 471
        }
      },
      "source": [
        "predicted_price = predict_prices(dates, prices, [[5]]) ## 5 is the date we saw in the df.tail() \n",
        "print(predicted_price)"
      ],
      "execution_count": 0,
      "outputs": [
        {
          "output_type": "stream",
          "text": [
            "/usr/local/lib/python3.6/dist-packages/sklearn/svm/base.py:193: FutureWarning: The default value of gamma will change from 'auto' to 'scale' in version 0.22 to account better for unscaled features. Set gamma explicitly to 'auto' or 'scale' to avoid this warning.\n",
            "  \"avoid this warning.\", FutureWarning)\n"
          ],
          "name": "stderr"
        },
        {
          "output_type": "display_data",
          "data": {
            "image/png": "[encoded data removed]",
            "text/plain": [
              "<Figure size 432x288 with 1 Axes>"
            ]
          },
          "metadata": {
            "tags": []
          }
        },
        {
          "output_type": "stream",
          "text": [
            "the svr_rbf predicted values is 2893.6026226076137\n",
            "the svr_lin predicted values is  2911.175200960982\n",
            "the svr_poly predicted values is  2909.6254659194487\n",
            "the lin_reg predicted values is  2920.130630677789\n",
            "the ridge_reg predicted values is  2920.130660371175\n",
            "the lasso_reg predicted values is  2920.275153409688\n",
            "None\n"
          ],
          "name": "stdout"
        }
      ]
    },
    {
      "cell_type": "markdown",
      "metadata": {
        "id": "ppa-sMI01XTE",
        "colab_type": "text"
      },
      "source": [
        "as we can see from the predicted values , the value of the open on 5th is 2960.600098 and the closest we get for this dataset is using the lasso regression model "
      ]
    },
    {
      "cell_type": "code",
      "metadata": {
        "id": "V_ElWUc_xyDk",
        "colab_type": "code",
        "colab": {}
      },
      "source": [
        ""
      ],
      "execution_count": 0,
      "outputs": []
    }
  ]
}